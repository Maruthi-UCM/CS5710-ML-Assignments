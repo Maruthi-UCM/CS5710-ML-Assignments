{
 "cells": [
  {
   "cell_type": "code",
   "execution_count": 12,
   "metadata": {},
   "outputs": [
    {
     "data": {
      "text/html": [
       "<div>\n",
       "<style scoped>\n",
       "    .dataframe tbody tr th:only-of-type {\n",
       "        vertical-align: middle;\n",
       "    }\n",
       "\n",
       "    .dataframe tbody tr th {\n",
       "        vertical-align: top;\n",
       "    }\n",
       "\n",
       "    .dataframe thead th {\n",
       "        text-align: right;\n",
       "    }\n",
       "</style>\n",
       "<table border=\"1\" class=\"dataframe\">\n",
       "  <thead>\n",
       "    <tr style=\"text-align: right;\">\n",
       "      <th></th>\n",
       "      <th>Duration</th>\n",
       "      <th>Pulse</th>\n",
       "      <th>Maxpulse</th>\n",
       "      <th>Calories</th>\n",
       "    </tr>\n",
       "  </thead>\n",
       "  <tbody>\n",
       "    <tr>\n",
       "      <th>count</th>\n",
       "      <td>169.000000</td>\n",
       "      <td>169.000000</td>\n",
       "      <td>169.000000</td>\n",
       "      <td>164.000000</td>\n",
       "    </tr>\n",
       "    <tr>\n",
       "      <th>mean</th>\n",
       "      <td>63.846154</td>\n",
       "      <td>107.461538</td>\n",
       "      <td>134.047337</td>\n",
       "      <td>375.790244</td>\n",
       "    </tr>\n",
       "    <tr>\n",
       "      <th>std</th>\n",
       "      <td>42.299949</td>\n",
       "      <td>14.510259</td>\n",
       "      <td>16.450434</td>\n",
       "      <td>266.379919</td>\n",
       "    </tr>\n",
       "    <tr>\n",
       "      <th>min</th>\n",
       "      <td>15.000000</td>\n",
       "      <td>80.000000</td>\n",
       "      <td>100.000000</td>\n",
       "      <td>50.300000</td>\n",
       "    </tr>\n",
       "    <tr>\n",
       "      <th>25%</th>\n",
       "      <td>45.000000</td>\n",
       "      <td>100.000000</td>\n",
       "      <td>124.000000</td>\n",
       "      <td>250.925000</td>\n",
       "    </tr>\n",
       "    <tr>\n",
       "      <th>50%</th>\n",
       "      <td>60.000000</td>\n",
       "      <td>105.000000</td>\n",
       "      <td>131.000000</td>\n",
       "      <td>318.600000</td>\n",
       "    </tr>\n",
       "    <tr>\n",
       "      <th>75%</th>\n",
       "      <td>60.000000</td>\n",
       "      <td>111.000000</td>\n",
       "      <td>141.000000</td>\n",
       "      <td>387.600000</td>\n",
       "    </tr>\n",
       "    <tr>\n",
       "      <th>max</th>\n",
       "      <td>300.000000</td>\n",
       "      <td>159.000000</td>\n",
       "      <td>184.000000</td>\n",
       "      <td>1860.400000</td>\n",
       "    </tr>\n",
       "  </tbody>\n",
       "</table>\n",
       "</div>"
      ],
      "text/plain": [
       "         Duration       Pulse    Maxpulse     Calories\n",
       "count  169.000000  169.000000  169.000000   164.000000\n",
       "mean    63.846154  107.461538  134.047337   375.790244\n",
       "std     42.299949   14.510259   16.450434   266.379919\n",
       "min     15.000000   80.000000  100.000000    50.300000\n",
       "25%     45.000000  100.000000  124.000000   250.925000\n",
       "50%     60.000000  105.000000  131.000000   318.600000\n",
       "75%     60.000000  111.000000  141.000000   387.600000\n",
       "max    300.000000  159.000000  184.000000  1860.400000"
      ]
     },
     "execution_count": 12,
     "metadata": {},
     "output_type": "execute_result"
    }
   ],
   "source": [
    "import pandas as pd\n",
    "import matplotlib.pyplot as plt\n",
    "\n",
    "df = pd.read_csv(\"data.csv\")        # reading the csv file as dataframe\n",
    "\n",
    "df.describe()                       # getting descripton of the dataframe"
   ]
  },
  {
   "cell_type": "code",
   "execution_count": 13,
   "metadata": {},
   "outputs": [
    {
     "data": {
      "text/plain": [
       "Duration    False\n",
       "Pulse       False\n",
       "Maxpulse    False\n",
       "Calories     True\n",
       "dtype: bool"
      ]
     },
     "execution_count": 13,
     "metadata": {},
     "output_type": "execute_result"
    }
   ],
   "source": [
    "df.isnull().any()       # Finding if any nullvalues present in the columns"
   ]
  },
  {
   "cell_type": "code",
   "execution_count": 14,
   "metadata": {},
   "outputs": [],
   "source": [
    "df=df.fillna(df.mean())     # Relacing a null values with respective mean values of column"
   ]
  },
  {
   "cell_type": "code",
   "execution_count": 15,
   "metadata": {},
   "outputs": [
    {
     "name": "stdout",
     "output_type": "stream",
     "text": [
      "min: Duration    15\n",
      "Pulse       80\n",
      "dtype: int64, \n",
      "\n",
      "max: Duration    300\n",
      "Pulse       159\n",
      "dtype: int64, \n",
      "\n",
      "count: Duration    169\n",
      "Pulse       169\n",
      "dtype: int64, \n",
      "\n",
      "mean: Duration     63.846154\n",
      "Pulse       107.461538\n",
      "dtype: float64\n"
     ]
    }
   ],
   "source": [
    "data = df[['Duration', 'Pulse']]\n",
    "\n",
    "# Aggregating data using various functions\n",
    "min_val = data.min()\n",
    "max_val = data.max()\n",
    "count_val = data.count()\n",
    "mean_val = data.mean()\n",
    "\n",
    "print(\"min: {}, \\n\\nmax: {}, \\n\\ncount: {}, \\n\\nmean: {}\".format(min_val, max_val,count_val,mean_val))"
   ]
  },
  {
   "cell_type": "code",
   "execution_count": 16,
   "metadata": {},
   "outputs": [
    {
     "name": "stdout",
     "output_type": "stream",
     "text": [
      "     Duration  Pulse  Maxpulse  Calories\n",
      "51         80    123       146     643.1\n",
      "62        160    109       135     853.0\n",
      "65        180     90       130     800.4\n",
      "66        150    105       135     873.4\n",
      "67        150    107       130     816.0\n",
      "72         90    100       127     700.0\n",
      "73        150     97       127     953.2\n",
      "75         90     98       125     563.2\n",
      "78        120    100       130     500.4\n",
      "83        120    100       130     500.0\n",
      "90        180    101       127     600.1\n",
      "99         90     93       124     604.1\n",
      "101        90     90       110     500.0\n",
      "102        90     90       100     500.0\n",
      "103        90     90       100     500.4\n",
      "106       180     90       120     800.3\n",
      "108        90     90       120     500.3\n"
     ]
    }
   ],
   "source": [
    "filtered_df = df[(df['Calories'] >= 500) & (df['Calories'] <= 1000)] #filtering dataframe for 500>= calories <=1000\n",
    "\n",
    "print(filtered_df)"
   ]
  },
  {
   "cell_type": "code",
   "execution_count": 17,
   "metadata": {},
   "outputs": [
    {
     "name": "stdout",
     "output_type": "stream",
     "text": [
      "     Duration  Pulse  Maxpulse  Calories\n",
      "65        180     90       130     800.4\n",
      "70        150     97       129    1115.0\n",
      "73        150     97       127     953.2\n",
      "75         90     98       125     563.2\n",
      "99         90     93       124     604.1\n",
      "103        90     90       100     500.4\n",
      "106       180     90       120     800.3\n",
      "108        90     90       120     500.3\n"
     ]
    }
   ],
   "source": [
    "filter_df = df[(df['Calories'] > 500) & (df['Pulse'] < 100)] #filtering dataframe for 500>= calories <=1000\n",
    "\n",
    "print(filter_df)"
   ]
  },
  {
   "cell_type": "code",
   "execution_count": 18,
   "metadata": {},
   "outputs": [
    {
     "name": "stdout",
     "output_type": "stream",
     "text": [
      "     Duration  Pulse  Calories\n",
      "0          60    110     409.1\n",
      "1          60    117     479.0\n",
      "2          60    103     340.0\n",
      "3          45    109     282.4\n",
      "4          45    117     406.0\n",
      "..        ...    ...       ...\n",
      "164        60    105     290.8\n",
      "165        60    110     300.0\n",
      "166        60    115     310.2\n",
      "167        75    120     320.4\n",
      "168        75    125     330.4\n",
      "\n",
      "[169 rows x 3 columns]\n"
     ]
    }
   ],
   "source": [
    "df_modified = df.drop(columns=['Maxpulse'])     # creating a new dataframe using df except for 'Maxpulse' column\n",
    "print(df_modified)"
   ]
  },
  {
   "cell_type": "code",
   "execution_count": 19,
   "metadata": {},
   "outputs": [
    {
     "name": "stdout",
     "output_type": "stream",
     "text": [
      "     Duration  Pulse  Calories\n",
      "0          60    110     409.1\n",
      "1          60    117     479.0\n",
      "2          60    103     340.0\n",
      "3          45    109     282.4\n",
      "4          45    117     406.0\n",
      "..        ...    ...       ...\n",
      "164        60    105     290.8\n",
      "165        60    110     300.0\n",
      "166        60    115     310.2\n",
      "167        75    120     320.4\n",
      "168        75    125     330.4\n",
      "\n",
      "[169 rows x 3 columns]\n"
     ]
    }
   ],
   "source": [
    "df = df.drop('Maxpulse', axis=1)    # dropping 'Maxpulse' column from the dataframe\n",
    "\n",
    "print(df)"
   ]
  },
  {
   "cell_type": "code",
   "execution_count": 20,
   "metadata": {},
   "outputs": [
    {
     "name": "stdout",
     "output_type": "stream",
     "text": [
      "     Duration  Pulse  Calories\n",
      "0          60    110       409\n",
      "1          60    117       479\n",
      "2          60    103       340\n",
      "3          45    109       282\n",
      "4          45    117       406\n",
      "..        ...    ...       ...\n",
      "164        60    105       290\n",
      "165        60    110       300\n",
      "166        60    115       310\n",
      "167        75    120       320\n",
      "168        75    125       330\n",
      "\n",
      "[169 rows x 3 columns]\n"
     ]
    }
   ],
   "source": [
    "df['Calories'] = df['Calories'].astype(int)     # converting 'calories' column datatype to int\n",
    "\n",
    "print(df)"
   ]
  },
  {
   "cell_type": "code",
   "execution_count": 21,
   "metadata": {},
   "outputs": [
    {
     "data": {
      "image/png": "[encoded data removed]",
      "text/plain": [
       "<Figure size 640x480 with 1 Axes>"
      ]
     },
     "metadata": {},
     "output_type": "display_data"
    }
   ],
   "source": [
    "plt.scatter(df['Duration'], df['Calories'])     # creating scatter plot for duration and calories columns\n",
    "plt.title('Duration vs Calories')               # title for the scatter plot\n",
    "plt.xlabel('Duration')\n",
    "plt.ylabel('Calories')\n",
    "plt.show()                                      # displaying the scatter plot"
   ]
  }
 ],
 "metadata": {
  "kernelspec": {
   "display_name": "Python 3",
   "language": "python",
   "name": "python3"
  },
  "language_info": {
   "codemirror_mode": {
    "name": "ipython",
    "version": 3
   },
   "file_extension": ".py",
   "mimetype": "text/x-python",
   "name": "python",
   "nbconvert_exporter": "python",
   "pygments_lexer": "ipython3",
   "version": "3.8.10"
  },
  "orig_nbformat": 4
 },
 "nbformat": 4,
 "nbformat_minor": 2
}
