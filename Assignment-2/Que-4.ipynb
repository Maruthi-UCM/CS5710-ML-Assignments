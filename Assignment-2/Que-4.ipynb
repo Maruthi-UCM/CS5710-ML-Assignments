{
 "cells": [
  {
   "cell_type": "code",
   "execution_count": 4,
   "metadata": {},
   "outputs": [
    {
     "name": "stdout",
     "output_type": "stream",
     "text": [
      "Enter the elements of the list seperated with ',': \n",
      "List after removing duplicates:  [1, 2, 3, 4, 5]\n"
     ]
    }
   ],
   "source": [
    "# reading the input list\n",
    "\n",
    "print(\"Enter the elements of the list seperated with ',': \")\n",
    "\n",
    "lis = list(map(int,input().split(',')))     # placing the input values into a list\n",
    "\n",
    "print(\"List after removing duplicates: \",list(set(lis)))  # using type conversion in to a set to remove the duplicates in the list "
   ]
  }
 ],
 "metadata": {
  "kernelspec": {
   "display_name": "Python 3",
   "language": "python",
   "name": "python3"
  },
  "language_info": {
   "codemirror_mode": {
    "name": "ipython",
    "version": 3
   },
   "file_extension": ".py",
   "mimetype": "text/x-python",
   "name": "python",
   "nbconvert_exporter": "python",
   "pygments_lexer": "ipython3",
   "version": "3.8.10"
  },
  "orig_nbformat": 4,
  "vscode": {
   "interpreter": {
    "hash": "851b836e14dcab55fd3926f5ccdc9ea142c28ed198698b6a3f7d5300f72fc4b6"
   }
  }
 },
 "nbformat": 4,
 "nbformat_minor": 2
}
