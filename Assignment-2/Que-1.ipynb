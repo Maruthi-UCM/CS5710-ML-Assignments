{
 "cells": [
  {
   "cell_type": "code",
   "execution_count": 16,
   "metadata": {},
   "outputs": [
    {
     "name": "stdout",
     "output_type": "stream",
     "text": [
      "* \n",
      "* * \n",
      "* * * \n",
      "* * * * \n",
      "* * * * * \n",
      "* * * * \n",
      "* * * \n",
      "* * \n",
      "* \n"
     ]
    }
   ],
   "source": [
    "no_of_lines= 9 # intializing the number of lines to be printed\n",
    "\n",
    "for i in range(1,no_of_lines+1):          # for loop to iterate for 'no_of_lines' times from 1 to no_of_lines value.\n",
    "    if i < no_of_lines//2+1:              # condition for printing the top half of the pattern\n",
    "        print('* '*i)\n",
    "    elif i ==no_of_lines//2+1:            # condition for printing the middle line of the pattern\n",
    "        print('* '*(no_of_lines//2+1))\n",
    "    else:                                 # condition for printing the bottom half of the pattern\n",
    "        print('* '*(no_of_lines-i+1))"
   ]
  }
 ],
 "metadata": {
  "kernelspec": {
   "display_name": "Python 3",
   "language": "python",
   "name": "python3"
  },
  "language_info": {
   "codemirror_mode": {
    "name": "ipython",
    "version": 3
   },
   "file_extension": ".py",
   "mimetype": "text/x-python",
   "name": "python",
   "nbconvert_exporter": "python",
   "pygments_lexer": "ipython3",
   "version": "3.8.10"
  },
  "orig_nbformat": 4,
  "vscode": {
   "interpreter": {
    "hash": "851b836e14dcab55fd3926f5ccdc9ea142c28ed198698b6a3f7d5300f72fc4b6"
   }
  }
 },
 "nbformat": 4,
 "nbformat_minor": 2
}
