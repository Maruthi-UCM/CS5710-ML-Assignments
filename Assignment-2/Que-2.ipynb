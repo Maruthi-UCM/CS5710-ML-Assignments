{
 "cells": [
  {
   "cell_type": "code",
   "execution_count": 1,
   "metadata": {},
   "outputs": [],
   "source": [
    "# intializing the list\n",
    "\n",
    "my_list = [10, 20, 30, 40, 50, 60, 70, 80, 90, 100]"
   ]
  },
  {
   "cell_type": "code",
   "execution_count": 2,
   "metadata": {},
   "outputs": [
    {
     "name": "stdout",
     "output_type": "stream",
     "text": [
      "Below are the elements at odd indexes in the given list:\n",
      "20 40 60 80 100 "
     ]
    }
   ],
   "source": [
    "print(\"Below are the elements at odd indexes in the given list:\")\n",
    "\n",
    "for i in range(len(my_list)):                   # using for loop to traverse through the list\n",
    "    if i%2!=0:                                  # condition for checking if the index is an odd value\n",
    "        print(my_list[i], end=\" \")"
   ]
  }
 ],
 "metadata": {
  "kernelspec": {
   "display_name": "Python 3",
   "language": "python",
   "name": "python3"
  },
  "language_info": {
   "codemirror_mode": {
    "name": "ipython",
    "version": 3
   },
   "file_extension": ".py",
   "mimetype": "text/x-python",
   "name": "python",
   "nbconvert_exporter": "python",
   "pygments_lexer": "ipython3",
   "version": "3.8.10"
  },
  "orig_nbformat": 4,
  "vscode": {
   "interpreter": {
    "hash": "851b836e14dcab55fd3926f5ccdc9ea142c28ed198698b6a3f7d5300f72fc4b6"
   }
  }
 },
 "nbformat": 4,
 "nbformat_minor": 2
}
