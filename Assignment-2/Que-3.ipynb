{
 "cells": [
  {
   "cell_type": "code",
   "execution_count": 1,
   "metadata": {},
   "outputs": [],
   "source": [
    "# intializing the input list\n",
    "\n",
    "x = [23, 'Python', 23.98]"
   ]
  },
  {
   "cell_type": "code",
   "execution_count": 2,
   "metadata": {},
   "outputs": [
    {
     "name": "stdout",
     "output_type": "stream",
     "text": [
      "[23, 'Python', 23.98]\n",
      "[<class 'int'>, <class 'str'>, <class 'float'>]\n"
     ]
    }
   ],
   "source": [
    "d_types=[]                          # empty list to take in the corresponding data type of elements from list 'x'\n",
    "\n",
    "for i in x:                         # using for loop for travesing through the elements in list 'x'\n",
    "    d_types.append(type(i))         # appending the data type of the element to d_types list\n",
    "\n",
    "print(x)\n",
    "print(d_types)"
   ]
  }
 ],
 "metadata": {
  "kernelspec": {
   "display_name": "Python 3",
   "language": "python",
   "name": "python3"
  },
  "language_info": {
   "codemirror_mode": {
    "name": "ipython",
    "version": 3
   },
   "file_extension": ".py",
   "mimetype": "text/x-python",
   "name": "python",
   "nbconvert_exporter": "python",
   "pygments_lexer": "ipython3",
   "version": "3.8.10"
  },
  "orig_nbformat": 4,
  "vscode": {
   "interpreter": {
    "hash": "851b836e14dcab55fd3926f5ccdc9ea142c28ed198698b6a3f7d5300f72fc4b6"
   }
  }
 },
 "nbformat": 4,
 "nbformat_minor": 2
}
