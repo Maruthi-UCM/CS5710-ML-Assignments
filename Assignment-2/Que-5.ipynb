{
 "cells": [
  {
   "cell_type": "code",
   "execution_count": 15,
   "metadata": {},
   "outputs": [],
   "source": [
    "# reading the input string\n",
    "\n",
    "inp_str = input()\n",
    "\n",
    "caps=0\n",
    "low_case=0             # intializing counters for capital and lower case letters"
   ]
  },
  {
   "cell_type": "code",
   "execution_count": 16,
   "metadata": {},
   "outputs": [
    {
     "name": "stdout",
     "output_type": "stream",
     "text": [
      "No. of Upper-case characters:  3\n",
      "No. of Lower-case characters: 12\n"
     ]
    }
   ],
   "source": [
    "for i in inp_str:                       # using for loop for traversing through the string\n",
    "    if i.islower() and i.isalpha():     # condtion for checking if the character is an alphabet and is in lower case\n",
    "        low_case+=1\n",
    "    elif i.isalpha():                   # condtion for checking if the character is an alphabet after failing the lower case check\n",
    "        caps+=1\n",
    "\n",
    "print(\"No. of Upper-case characters: \",caps)\n",
    "print(\"No. of Lower-case characters:\",low_case)"
   ]
  }
 ],
 "metadata": {
  "kernelspec": {
   "display_name": "Python 3",
   "language": "python",
   "name": "python3"
  },
  "language_info": {
   "codemirror_mode": {
    "name": "ipython",
    "version": 3
   },
   "file_extension": ".py",
   "mimetype": "text/x-python",
   "name": "python",
   "nbconvert_exporter": "python",
   "pygments_lexer": "ipython3",
   "version": "3.8.10"
  },
  "orig_nbformat": 4,
  "vscode": {
   "interpreter": {
    "hash": "851b836e14dcab55fd3926f5ccdc9ea142c28ed198698b6a3f7d5300f72fc4b6"
   }
  }
 },
 "nbformat": 4,
 "nbformat_minor": 2
}
