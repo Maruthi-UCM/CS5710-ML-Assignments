{
 "cells": [
  {
   "cell_type": "code",
   "execution_count": 1,
   "metadata": {},
   "outputs": [
    {
     "name": "stdout",
     "output_type": "stream",
     "text": [
      "Dictionary dog:  {'name': 'max', 'color': 'brown', 'breed': 'golden retriver', 'legs': 4, 'age': 3}\n"
     ]
    }
   ],
   "source": [
    "# creating empty dictionary named dog\n",
    "dog= {}\n",
    "\n",
    "# adding some key-value pairs to the empty dictionary\n",
    "dog[\"name\"] = \"max\" \n",
    "dog[\"color\"] = \"brown\" \n",
    "dog[\"breed\"] = \"golden retriver\" \n",
    "dog[\"legs\"] = 4 \n",
    "dog[\"age\"] = 3 \n",
    "\n",
    "print(\"Dictionary dog: \",dog) # printing the dog dictionary"
   ]
  },
  {
   "cell_type": "code",
   "execution_count": 2,
   "metadata": {},
   "outputs": [
    {
     "name": "stdout",
     "output_type": "stream",
     "text": [
      "Student Dictionary:  {'first_name': 'Maruthi', 'last_name': 'Kande', 'gender': 'Male', 'age': 24, 'marital_status': 'Single', 'skills': ['Python', 'Java', 'C'], 'country': 'United States', 'city': \"Lee's Summit\", 'address': '502 SE 3rd St.'}\n",
      "length of student dictionary:  9\n"
     ]
    }
   ],
   "source": [
    "# creating student dictionary and adding some key-value pairs to the dictionary\n",
    "student = {\n",
    "    \"first_name\": \"Maruthi\", \n",
    "    \"last_name\": \"Kande\", \n",
    "    \"gender\": \"Male\", \n",
    "    \"age\": 24, \n",
    "    \"marital_status\": \"Single\", \n",
    "    \"skills\": [\"Python\", \"Java\", \"C\"], \n",
    "    \"country\": \"United States\", \n",
    "    \"city\": \"Lee's Summit\", \n",
    "    \"address\": \"502 SE 3rd St.\" \n",
    "}\n",
    "print(\"Student Dictionary: \",student) # printing the student dictionary\n",
    "\n",
    "print(\"length of student dictionary: \",len(student)) # printing length of student dictionary"
   ]
  },
  {
   "cell_type": "code",
   "execution_count": 3,
   "metadata": {},
   "outputs": [
    {
     "name": "stdout",
     "output_type": "stream",
     "text": [
      "Value of key skills:  ['Python', 'Java', 'C']\n",
      "Datatype of the value:  <class 'list'>\n",
      "Modified Student Dictionary:  {'first_name': 'Maruthi', 'last_name': 'Kande', 'gender': 'Male', 'age': 24, 'marital_status': 'Single', 'skills': ['Python', 'Java', 'C', 'AWS', 'SQL'], 'country': 'United States', 'city': \"Lee's Summit\", 'address': '502 SE 3rd St.'}\n"
     ]
    }
   ],
   "source": [
    "print(\"Value of key skills: \",student[\"skills\"]) # retrieving the value of key 'skills'\n",
    "print(\"Datatype of the value: \",type(student[\"skills\"])) # printing the datatype of the value for 'skills' key\n",
    "\n",
    "student[\"skills\"]+=[\"AWS\",\"SQL\"] # modifying the value of key 'skills'\n",
    "print(\"Modified Student Dictionary: \",student) # printing modified dictionary"
   ]
  },
  {
   "cell_type": "code",
   "execution_count": 5,
   "metadata": {},
   "outputs": [
    {
     "name": "stdout",
     "output_type": "stream",
     "text": [
      "Keys in Student dictionary:  ['first_name', 'last_name', 'gender', 'age', 'marital_status', 'skills', 'country', 'city', 'address']\n",
      "Values in Student dictionary:  ['Maruthi', 'Kande', 'Male', 24, 'Single', ['Python', 'Java', 'C', 'AWS', 'SQL'], 'United States', \"Lee's Summit\", '502 SE 3rd St.']\n"
     ]
    }
   ],
   "source": [
    "# printing all the keys & Values  in the dictionary\n",
    "print(\"Keys in Student dictionary: \",list(student.keys()))\n",
    "print(\"Values in Student dictionary: \",list(student.values()))"
   ]
  }
 ],
 "metadata": {
  "kernelspec": {
   "display_name": "Python 3",
   "language": "python",
   "name": "python3"
  },
  "language_info": {
   "codemirror_mode": {
    "name": "ipython",
    "version": 3
   },
   "file_extension": ".py",
   "mimetype": "text/x-python",
   "name": "python",
   "nbconvert_exporter": "python",
   "pygments_lexer": "ipython3",
   "version": "3.8.10 (tags/v3.8.10:3d8993a, May  3 2021, 11:48:03) [MSC v.1928 64 bit (AMD64)]"
  },
  "orig_nbformat": 4,
  "vscode": {
   "interpreter": {
    "hash": "851b836e14dcab55fd3926f5ccdc9ea142c28ed198698b6a3f7d5300f72fc4b6"
   }
  }
 },
 "nbformat": 4,
 "nbformat_minor": 2
}
