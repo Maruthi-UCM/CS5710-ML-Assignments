{
 "cells": [
  {
   "cell_type": "code",
   "execution_count": 1,
   "metadata": {},
   "outputs": [],
   "source": [
    "# intializing the string\n",
    "\n",
    "inp_str = \"I am a teacher and I love to inspire and teach people\""
   ]
  },
  {
   "cell_type": "code",
   "execution_count": 2,
   "metadata": {},
   "outputs": [
    {
     "name": "stdout",
     "output_type": "stream",
     "text": [
      "Total number of unique words in the string:  10\n",
      "list of unique words present in string:  {'inspire', 'love', 'people', 'to', 'teacher', 'am', 'I', 'and', 'teach', 'a'}\n"
     ]
    }
   ],
   "source": [
    "# splitting string into list of words\n",
    "words = inp_str.split(\" \")\n",
    "\n",
    "# eliminating duplicate in the list\n",
    "unique_words = set(words)\n",
    "\n",
    "# printing total unique words in the string\n",
    "print(\"Total number of unique words in the string: \",len(unique_words))\n",
    "print(\"list of unique words present in string: \",unique_words)"
   ]
  }
 ],
 "metadata": {
  "kernelspec": {
   "display_name": "Python 3",
   "language": "python",
   "name": "python3"
  },
  "language_info": {
   "codemirror_mode": {
    "name": "ipython",
    "version": 3
   },
   "file_extension": ".py",
   "mimetype": "text/x-python",
   "name": "python",
   "nbconvert_exporter": "python",
   "pygments_lexer": "ipython3",
   "version": "3.8.10"
  },
  "orig_nbformat": 4,
  "vscode": {
   "interpreter": {
    "hash": "851b836e14dcab55fd3926f5ccdc9ea142c28ed198698b6a3f7d5300f72fc4b6"
   }
  }
 },
 "nbformat": 4,
 "nbformat_minor": 2
}
