{
 "cells": [
  {
   "cell_type": "code",
   "execution_count": 17,
   "metadata": {},
   "outputs": [],
   "source": [
    "# declaring the sets it_companies, A, B\n",
    "it_companies = {'Facebook', 'Google', 'Microsoft', 'Apple', 'IBM', 'Oracle', 'Amazon'} \n",
    "A = {19, 22, 24, 20, 25, 26}\n",
    "B = {19, 22, 20, 25, 26, 24, 28, 27}\n",
    "\n",
    "# declaring list age\n",
    "age = [22, 19, 24, 25, 26, 24, 25, 24]"
   ]
  },
  {
   "cell_type": "code",
   "execution_count": 18,
   "metadata": {},
   "outputs": [
    {
     "name": "stdout",
     "output_type": "stream",
     "text": [
      "lenght of set it_companies:  7\n",
      "set it_companies after modifications:  {'Apple', 'Facebook', 'Microsoft', 'Twitter', 'Walmart', 'IBM', 'Amazon', 'Google', 'Oracle'}\n"
     ]
    }
   ],
   "source": [
    "# printing the len of set it_companies\n",
    "print(\"lenght of set it_companies: \",len(it_companies))\n",
    "\n",
    "it_companies.add(\"Twitter\") # adding a value to the set it_companies\n",
    "it_companies.update({'Walmart', 'Costco'}) # adding more than one value at a time to the set it_companies\n",
    "\n",
    "it_companies.remove(\"Costco\") # removing a value from the set it_companies\n",
    "\n",
    "print(\"set it_companies after modifications: \",it_companies)"
   ]
  },
  {
   "attachments": {},
   "cell_type": "markdown",
   "metadata": {},
   "source": [
    "Difference between remove() method and discard() method:\n",
    "\n",
    "Both the methods remove() and discard() are used to remove a specific object from a set. When we use 'remove()' function to remove a specific object, the function will raise a 'key error' exception if that object is not present in the set, where as the 'discard()' method will not raise an exception."
   ]
  },
  {
   "cell_type": "code",
   "execution_count": 19,
   "metadata": {},
   "outputs": [
    {
     "name": "stdout",
     "output_type": "stream",
     "text": [
      "Joining two sets A and B:  {19, 20, 22, 24, 25, 26, 27, 28}\n",
      "Intersection of two sets A and B:  {19, 20, 22, 24, 25, 26}\n"
     ]
    }
   ],
   "source": [
    "print(\"Joining two sets A and B: \",A.union(B)) # joining the sets\n",
    "\n",
    "print(\"Intersection of two sets A and B: \",A.intersection(B)) # finding interstion of the sets"
   ]
  },
  {
   "cell_type": "code",
   "execution_count": 20,
   "metadata": {},
   "outputs": [
    {
     "name": "stdout",
     "output_type": "stream",
     "text": [
      "set A is subset of set B\n"
     ]
    }
   ],
   "source": [
    "# finding if set A is Subset of Set B\n",
    "\n",
    "if A.issubset(B):\n",
    "    print(\"set A is subset of set B\")\n",
    "else:\n",
    "    print(\"set A is subset of set B\")"
   ]
  },
  {
   "cell_type": "code",
   "execution_count": 21,
   "metadata": {},
   "outputs": [
    {
     "name": "stdout",
     "output_type": "stream",
     "text": [
      "set A and set B are not Disjoint sets\n"
     ]
    }
   ],
   "source": [
    "# finding if A and B are disjoint sets\n",
    "\n",
    "if A.isdisjoint(B):\n",
    "    print(\"set A and set B are Disjoint sets\")\n",
    "else:\n",
    "    print(\"set A and set B are not Disjoint sets\")"
   ]
  },
  {
   "cell_type": "code",
   "execution_count": 22,
   "metadata": {},
   "outputs": [
    {
     "name": "stdout",
     "output_type": "stream",
     "text": [
      "Joining set A with set B:  {19, 20, 22, 24, 25, 26, 27, 28}\n",
      "Joining set B with set A:  {19, 20, 22, 24, 25, 26, 27, 28}\n"
     ]
    }
   ],
   "source": [
    "# joining Set A with set B and viceversa\n",
    "\n",
    "print(\"Joining set A with set B: \",A.union(B))\n",
    "\n",
    "print(\"Joining set B with set A: \",B.union(A))"
   ]
  },
  {
   "cell_type": "code",
   "execution_count": 23,
   "metadata": {},
   "outputs": [
    {
     "name": "stdout",
     "output_type": "stream",
     "text": [
      "Symmertic difference between two sets A & B:  {27, 28}\n"
     ]
    }
   ],
   "source": [
    "# finding Symmetric difference between set A and set B\n",
    "\n",
    "print(\"Symmertic difference between two sets A & B: \",A.symmetric_difference(B))\n",
    "\n",
    "# deleting the sets A & B\n",
    "del(A)\n",
    "del(B)\n"
   ]
  },
  {
   "cell_type": "code",
   "execution_count": 24,
   "metadata": {},
   "outputs": [
    {
     "name": "stdout",
     "output_type": "stream",
     "text": [
      "lenght of List 'age':  8\n",
      "length of set 'age':  5\n"
     ]
    }
   ],
   "source": [
    "# getting lenght of list age\n",
    "len_list_age = len(age)\n",
    "\n",
    "# coverting list age into a set\n",
    "age=set(age)\n",
    "\n",
    "# getting length of set age\n",
    "len_set_age = len(age)\n",
    "\n",
    "#comparing length of object age before and after convertion from list to set\n",
    "print(\"lenght of List 'age': \",len_list_age)\n",
    "print(\"length of set 'age': \",len_set_age)"
   ]
  }
 ],
 "metadata": {
  "kernelspec": {
   "display_name": "Python 3",
   "language": "python",
   "name": "python3"
  },
  "language_info": {
   "codemirror_mode": {
    "name": "ipython",
    "version": 3
   },
   "file_extension": ".py",
   "mimetype": "text/x-python",
   "name": "python",
   "nbconvert_exporter": "python",
   "pygments_lexer": "ipython3",
   "version": "3.8.10"
  },
  "orig_nbformat": 4,
  "vscode": {
   "interpreter": {
    "hash": "851b836e14dcab55fd3926f5ccdc9ea142c28ed198698b6a3f7d5300f72fc4b6"
   }
  }
 },
 "nbformat": 4,
 "nbformat_minor": 2
}
