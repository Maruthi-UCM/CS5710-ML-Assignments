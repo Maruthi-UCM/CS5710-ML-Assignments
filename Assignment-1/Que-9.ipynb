{
 "cells": [
  {
   "cell_type": "code",
   "execution_count": 5,
   "metadata": {},
   "outputs": [
    {
     "name": "stdout",
     "output_type": "stream",
     "text": [
      "Enter the weights in pounds(lbs): \n",
      "Weights of students in lbs:  [150, 155, 148, 145, 140]\n"
     ]
    }
   ],
   "source": [
    "# reading number of students from input\n",
    "N = int(input(\"Enter the number of Students: \"))\n",
    "\n",
    "# reading input for list of weights\n",
    "print(\"Enter the weights in pounds(lbs): \")\n",
    "weights_lb = [] # intializing empty list\n",
    "\n",
    "for i in range(N):\n",
    "    weights_lb.append(int(input()))\n",
    "\n",
    "print(\"Weights of students in lbs: \",weights_lb)"
   ]
  },
  {
   "cell_type": "code",
   "execution_count": 16,
   "metadata": {},
   "outputs": [
    {
     "name": "stdout",
     "output_type": "stream",
     "text": [
      "weights of students in kgs:  [68.04, 70.31, 67.13, 65.77, 63.5]\n"
     ]
    }
   ],
   "source": [
    "# converting the weights in lbs to kgs\n",
    "\n",
    "weights_kg = [] # intializing empty list\n",
    "\n",
    "for i in weights_lb:\n",
    "    weights_kg.append(round(i*0.45359237,2))\n",
    "\n",
    "print(\"weights of students in kgs: \",weights_kg)"
   ]
  }
 ],
 "metadata": {
  "kernelspec": {
   "display_name": "Python 3",
   "language": "python",
   "name": "python3"
  },
  "language_info": {
   "codemirror_mode": {
    "name": "ipython",
    "version": 3
   },
   "file_extension": ".py",
   "mimetype": "text/x-python",
   "name": "python",
   "nbconvert_exporter": "python",
   "pygments_lexer": "ipython3",
   "version": "3.8.10 (tags/v3.8.10:3d8993a, May  3 2021, 11:48:03) [MSC v.1928 64 bit (AMD64)]"
  },
  "orig_nbformat": 4,
  "vscode": {
   "interpreter": {
    "hash": "851b836e14dcab55fd3926f5ccdc9ea142c28ed198698b6a3f7d5300f72fc4b6"
   }
  }
 },
 "nbformat": 4,
 "nbformat_minor": 2
}
