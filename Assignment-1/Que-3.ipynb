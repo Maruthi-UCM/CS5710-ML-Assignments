{
 "cells": [
  {
   "cell_type": "code",
   "execution_count": 1,
   "metadata": {},
   "outputs": [],
   "source": [
    "# defining a tuples named brothers and sisters\n",
    "brothers = (\"vinay\",\"shannu\")  \n",
    "sisters = (\"sravanthi\",)"
   ]
  },
  {
   "cell_type": "code",
   "execution_count": 2,
   "metadata": {},
   "outputs": [
    {
     "name": "stdout",
     "output_type": "stream",
     "text": [
      "Number of siblings I have:  3\n"
     ]
    }
   ],
   "source": [
    "# joining both the tuples brothers and sisters\n",
    "siblings = brothers+sisters\n",
    "\n",
    "print(\"Number of siblings I have: \",len(siblings)) # printing the number of elements in the tuple siblings"
   ]
  },
  {
   "cell_type": "code",
   "execution_count": 3,
   "metadata": {},
   "outputs": [
    {
     "name": "stdout",
     "output_type": "stream",
     "text": [
      "My Family members:  ('veeru', 'lakshmi', 'vinay', 'shannu', 'sravanthi')\n"
     ]
    }
   ],
   "source": [
    "# joining the tuple family_members with the tuple siblings\n",
    "family_members = (\"veeru\",\"lakshmi\")+siblings\n",
    "\n",
    "print(\"My Family members: \",family_members)"
   ]
  }
 ],
 "metadata": {
  "kernelspec": {
   "display_name": "Python 3",
   "language": "python",
   "name": "python3"
  },
  "language_info": {
   "codemirror_mode": {
    "name": "ipython",
    "version": 3
   },
   "file_extension": ".py",
   "mimetype": "text/x-python",
   "name": "python",
   "nbconvert_exporter": "python",
   "pygments_lexer": "ipython3",
   "version": "3.8.10"
  },
  "orig_nbformat": 4,
  "vscode": {
   "interpreter": {
    "hash": "851b836e14dcab55fd3926f5ccdc9ea142c28ed198698b6a3f7d5300f72fc4b6"
   }
  }
 },
 "nbformat": 4,
 "nbformat_minor": 2
}
