{
 "cells": [
  {
   "cell_type": "code",
   "execution_count": 1,
   "metadata": {},
   "outputs": [
    {
     "name": "stdout",
     "output_type": "stream",
     "text": [
      "Given radius of the circle:  30.0\n"
     ]
    }
   ],
   "source": [
    "# getting the radius of the circle as input\n",
    "\n",
    "radius = float(input('Enter radius of circle: '))\n",
    "\n",
    "print(\"Given radius of the circle: \", radius)"
   ]
  },
  {
   "cell_type": "code",
   "execution_count": 2,
   "metadata": {},
   "outputs": [
    {
     "name": "stdout",
     "output_type": "stream",
     "text": [
      "Area of the circle:  2826.0\n"
     ]
    }
   ],
   "source": [
    "# calculating area of circle\n",
    "\n",
    "_area_of_circle_ = 3.14*(radius**2)\n",
    "\n",
    "print(\"Area of the circle: \",_area_of_circle_)"
   ]
  },
  {
   "cell_type": "code",
   "execution_count": 3,
   "metadata": {},
   "outputs": [
    {
     "name": "stdout",
     "output_type": "stream",
     "text": [
      "Circumference of circle:  188.4\n"
     ]
    }
   ],
   "source": [
    "#calculating circumference of the circle\n",
    "\n",
    "_circum_of_circle_ = 2*3.14*radius\n",
    "\n",
    "print(\"Circumference of circle: \",_circum_of_circle_)"
   ]
  }
 ],
 "metadata": {
  "kernelspec": {
   "display_name": "Python 3",
   "language": "python",
   "name": "python3"
  },
  "language_info": {
   "codemirror_mode": {
    "name": "ipython",
    "version": 3
   },
   "file_extension": ".py",
   "mimetype": "text/x-python",
   "name": "python",
   "nbconvert_exporter": "python",
   "pygments_lexer": "ipython3",
   "version": "3.8.10"
  },
  "orig_nbformat": 4,
  "vscode": {
   "interpreter": {
    "hash": "851b836e14dcab55fd3926f5ccdc9ea142c28ed198698b6a3f7d5300f72fc4b6"
   }
  }
 },
 "nbformat": 4,
 "nbformat_minor": 2
}
