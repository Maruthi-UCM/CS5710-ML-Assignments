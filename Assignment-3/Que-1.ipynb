{
 "cells": [
  {
   "cell_type": "code",
   "execution_count": 59,
   "metadata": {},
   "outputs": [
    {
     "name": "stdout",
     "output_type": "stream",
     "text": [
      "[16  9  1  5  6 15 11 15 13 17  3  2 18  3 17]\n"
     ]
    }
   ],
   "source": [
    "import numpy as np\n",
    "\n",
    "rand_vect = np.random.randint(1,20, size=15)  #generating random integer vector of size 15\n",
    "\n",
    "print(rand_vect)"
   ]
  },
  {
   "cell_type": "code",
   "execution_count": 60,
   "metadata": {},
   "outputs": [
    {
     "name": "stdout",
     "output_type": "stream",
     "text": [
      "(3, 5)\n",
      "[[ 0  9  1  5  6]\n",
      " [15 11 15 13  0]\n",
      " [ 3  2  0  3 17]]\n"
     ]
    }
   ],
   "source": [
    "rand_vect = rand_vect.reshape((3,5))             # reshaping the vector into 3 by 5 array\n",
    "\n",
    "print(rand_vect.shape)                           # getting size of the array\n",
    "\n",
    "for i in range(rand_vect.shape[0]):\n",
    "    rand_vect[i][np.argmax(rand_vect[i])] = 0    # replacing max of every row with '0'\n",
    "\n",
    "print(rand_vect)"
   ]
  },
  {
   "cell_type": "code",
   "execution_count": 61,
   "metadata": {},
   "outputs": [
    {
     "name": "stdout",
     "output_type": "stream",
     "text": [
      "(4, 3)\n",
      "<class 'numpy.ndarray'>\n",
      "int32\n"
     ]
    }
   ],
   "source": [
    "array_2d = np.array([[4,1,7],[10,5,2],[8,3,9],[12,-1,6]]) # creating a 2d array of 4 by 3 shape\n",
    "\n",
    "print(array_2d.shape)\n",
    "print(type(array_2d))\n",
    "print(array_2d.dtype)"
   ]
  },
  {
   "cell_type": "code",
   "execution_count": 62,
   "metadata": {},
   "outputs": [
    {
     "name": "stdout",
     "output_type": "stream",
     "text": [
      "Array: \n",
      " [[ 3 -2]\n",
      " [ 1  0]]\n",
      "Eigen values of array: \n",
      " [2. 1.]\n",
      "Eigen vectors of array: \n",
      " [[0.89442719 0.70710678]\n",
      " [0.4472136  0.70710678]]\n"
     ]
    }
   ],
   "source": [
    "arr = np.array([[3,-2],[1,0]]) # intializing array\n",
    "\n",
    "eig_val, eig_vec = np.linalg.eig(arr) # getting Eigen values and Eigen vectors of given array\n",
    "\n",
    "print(\"Array: \\n\",arr)\n",
    "print(\"Eigen values of array: \\n\",eig_val)\n",
    "print(\"Eigen vectors of array: \\n\",eig_vec)"
   ]
  },
  {
   "cell_type": "code",
   "execution_count": 63,
   "metadata": {},
   "outputs": [
    {
     "name": "stdout",
     "output_type": "stream",
     "text": [
      "4\n"
     ]
    }
   ],
   "source": [
    "array = np.array ([[0,1,2],[3,4,5]])\n",
    "\n",
    "print(np.trace(array)) # getting sum of diagonal elements"
   ]
  },
  {
   "cell_type": "code",
   "execution_count": 64,
   "metadata": {},
   "outputs": [
    {
     "name": "stdout",
     "output_type": "stream",
     "text": [
      "[[1 2]\n",
      " [3 4]\n",
      " [5 6]]\n",
      "[[1 2 3]\n",
      " [4 5 6]]\n"
     ]
    }
   ],
   "source": [
    "a= np.array([[1,2],[3,4],[5,6]])    # intializing array \n",
    "print(a)\n",
    "\n",
    "a = a.reshape((2,3))                #reshaping the array\n",
    "print(a)"
   ]
  }
 ],
 "metadata": {
  "kernelspec": {
   "display_name": "Python 3",
   "language": "python",
   "name": "python3"
  },
  "language_info": {
   "codemirror_mode": {
    "name": "ipython",
    "version": 3
   },
   "file_extension": ".py",
   "mimetype": "text/x-python",
   "name": "python",
   "nbconvert_exporter": "python",
   "pygments_lexer": "ipython3",
   "version": "3.8.10"
  },
  "orig_nbformat": 4,
  "vscode": {
   "interpreter": {
    "hash": "851b836e14dcab55fd3926f5ccdc9ea142c28ed198698b6a3f7d5300f72fc4b6"
   }
  }
 },
 "nbformat": 4,
 "nbformat_minor": 2
}
